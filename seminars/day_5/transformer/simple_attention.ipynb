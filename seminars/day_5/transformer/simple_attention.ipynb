{
 "cells": [
  {
   "cell_type": "markdown",
   "id": "adb37841-a385-4af6-af06-25cc98bc449c",
   "metadata": {},
   "source": [
    "https://habr.com/ru/articles/486358/"
   ]
  },
  {
   "cell_type": "code",
   "execution_count": 1,
   "id": "58cad2b0",
   "metadata": {},
   "outputs": [],
   "source": [
    "import numpy as np\n",
    "np.random.seed(1000)"
   ]
  },
  {
   "cell_type": "markdown",
   "id": "2ed46a7b",
   "metadata": {},
   "source": [
    "Эмбединги "
   ]
  },
  {
   "cell_type": "code",
   "execution_count": 12,
   "id": "c87b5f84",
   "metadata": {},
   "outputs": [
    {
     "data": {
      "text/plain": [
       "array([[ 0.17793711,  1.39442275,  0.29132019, -0.08200619],\n",
       "       [ 0.64424261,  0.32807995,  0.85743275, -0.93696928]])"
      ]
     },
     "execution_count": 12,
     "metadata": {},
     "output_type": "execute_result"
    }
   ],
   "source": [
    "num_word = 2\n",
    "num_emb = 4\n",
    "emb = np.random.randn(num_word,num_emb)\n",
    "emb"
   ]
  },
  {
   "cell_type": "markdown",
   "id": "1847a209",
   "metadata": {},
   "source": [
    "Обучаемые матрицы query, key, value"
   ]
  },
  {
   "cell_type": "code",
   "execution_count": 13,
   "id": "58c13b03",
   "metadata": {},
   "outputs": [],
   "source": [
    "Q = np.random.rand(num_emb,num_emb)\n",
    "K = np.random.rand(num_emb,num_emb)\n",
    "V = np.random.rand(num_emb,num_emb)"
   ]
  },
  {
   "cell_type": "markdown",
   "id": "bce81206",
   "metadata": {},
   "source": [
    "Queries"
   ]
  },
  {
   "cell_type": "code",
   "execution_count": 14,
   "id": "82b9f7a0",
   "metadata": {},
   "outputs": [
    {
     "data": {
      "text/plain": [
       "array([[ 1.37217793,  0.71388711,  1.09149993,  0.71957157],\n",
       "       [ 0.6860491 ,  0.97000432,  0.82863568, -0.13072229]])"
      ]
     },
     "execution_count": 14,
     "metadata": {},
     "output_type": "execute_result"
    }
   ],
   "source": [
    "q = emb@Q\n",
    "q"
   ]
  },
  {
   "cell_type": "markdown",
   "id": "3a55b018",
   "metadata": {},
   "source": [
    "Keys"
   ]
  },
  {
   "cell_type": "code",
   "execution_count": 15,
   "id": "3ef83ba8",
   "metadata": {},
   "outputs": [
    {
     "data": {
      "text/plain": [
       "array([[ 1.15658155,  0.48101366,  1.3682336 ,  1.17343891],\n",
       "       [-0.00562944,  0.80197415,  1.07285986,  0.12158418]])"
      ]
     },
     "execution_count": 15,
     "metadata": {},
     "output_type": "execute_result"
    }
   ],
   "source": [
    "k = emb@K\n",
    "k"
   ]
  },
  {
   "cell_type": "markdown",
   "id": "345b1bfb",
   "metadata": {},
   "source": [
    "Values"
   ]
  },
  {
   "cell_type": "code",
   "execution_count": 16,
   "id": "be809cc4",
   "metadata": {},
   "outputs": [
    {
     "data": {
      "text/plain": [
       "array([[0.43614673, 0.57177363, 0.84269036, 1.08145594],\n",
       "       [0.26316322, 0.74389196, 0.7751859 , 0.68543799]])"
      ]
     },
     "execution_count": 16,
     "metadata": {},
     "output_type": "execute_result"
    }
   ],
   "source": [
    "v = emb@V\n",
    "v"
   ]
  },
  {
   "cell_type": "markdown",
   "id": "867db64c",
   "metadata": {},
   "source": [
    "Score"
   ]
  },
  {
   "cell_type": "code",
   "execution_count": 18,
   "id": "8f4cf3d7",
   "metadata": {},
   "outputs": [
    {
     "name": "stdout",
     "output_type": "stream",
     "text": [
      "[[4.26822529 2.24042961]\n",
      " [1.8233094  1.64717251]]\n"
     ]
    },
    {
     "data": {
      "text/plain": [
       "array([[0.73378227, 0.26621773],\n",
       "       [0.52200289, 0.47799711]])"
      ]
     },
     "execution_count": 18,
     "metadata": {},
     "output_type": "execute_result"
    }
   ],
   "source": [
    "from scipy.special import softmax\n",
    "t = k@q.T\n",
    "print(t)\n",
    "s = softmax(t/np.sqrt(num_emb),1)\n",
    "s"
   ]
  },
  {
   "cell_type": "markdown",
   "id": "0547294a",
   "metadata": {},
   "source": [
    "Output"
   ]
  },
  {
   "cell_type": "code",
   "execution_count": 19,
   "id": "fd79c830",
   "metadata": {},
   "outputs": [
    {
     "data": {
      "text/plain": [
       "array([[0.39009545, 0.61759458, 0.82471948, 0.97602894],\n",
       "       [0.35346111, 0.65404569, 0.81042342, 0.8921605 ]])"
      ]
     },
     "execution_count": 19,
     "metadata": {},
     "output_type": "execute_result"
    }
   ],
   "source": [
    "z = s@v\n",
    "z"
   ]
  },
  {
   "cell_type": "code",
   "execution_count": null,
   "id": "f005b999",
   "metadata": {},
   "outputs": [],
   "source": []
  }
 ],
 "metadata": {
  "kernelspec": {
   "display_name": "Python 3 (ipykernel)",
   "language": "python",
   "name": "python3"
  },
  "language_info": {
   "codemirror_mode": {
    "name": "ipython",
    "version": 3
   },
   "file_extension": ".py",
   "mimetype": "text/x-python",
   "name": "python",
   "nbconvert_exporter": "python",
   "pygments_lexer": "ipython3",
   "version": "3.10.10"
  }
 },
 "nbformat": 4,
 "nbformat_minor": 5
}
