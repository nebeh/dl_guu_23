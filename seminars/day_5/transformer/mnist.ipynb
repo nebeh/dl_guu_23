{
 "cells": [
  {
   "cell_type": "code",
   "execution_count": 1,
   "id": "e2ae0c33-2b6a-4c68-b109-baacf18b70df",
   "metadata": {
    "tags": []
   },
   "outputs": [
    {
     "name": "stdout",
     "output_type": "stream",
     "text": [
      "cuda\n"
     ]
    }
   ],
   "source": [
    "import torch\n",
    "\n",
    "device = torch.device('cuda' if torch.cuda.is_available() else 'cpu')\n",
    "print(device)\n",
    "#torch.load('test.pt')\n",
    "\n",
    "from torchvision import datasets\n",
    "from torchvision import transforms \n",
    "from torchvision.transforms import ToTensor\n",
    "transform = transforms.Compose([transforms.RandomRotation(100),\n",
    "                       transforms.ToTensor()])\n",
    "train_data = datasets.MNIST(\n",
    "    root = 'data', train = True, transform = ToTensor(), download = True,            \n",
    ")\n",
    "test_data = datasets.MNIST(\n",
    "    root = 'data', train = False, transform = ToTensor())"
   ]
  },
  {
   "cell_type": "code",
   "execution_count": 2,
   "id": "07df32ae-0c4b-451e-95cc-5ff746c513a3",
   "metadata": {
    "tags": []
   },
   "outputs": [
    {
     "data": {
      "image/png": "[encoded data removed]",
      "text/plain": [
       "<Figure size 432x288 with 1 Axes>"
      ]
     },
     "metadata": {
      "needs_background": "light"
     },
     "output_type": "display_data"
    }
   ],
   "source": [
    "import matplotlib.pyplot as plt\n",
    "plt.imshow(train_data.data[0], cmap='gray')\n",
    "plt.title('%i' % train_data.targets[0])\n",
    "plt.show()\n",
    "\n",
    "loaders = {\n",
    "    'train' : torch.utils.data.DataLoader(train_data, \n",
    "                                          batch_size=128, \n",
    "                                          shuffle=True, \n",
    "                                          num_workers=1),\n",
    "    \n",
    "    'test'  : torch.utils.data.DataLoader(test_data, \n",
    "                                          batch_size=128, \n",
    "                                          shuffle=True, \n",
    "                                          num_workers=1),\n",
    "}"
   ]
  },
  {
   "cell_type": "code",
   "execution_count": 3,
   "id": "18eafc43-fd45-48db-9f7a-c1dfa8db4bfd",
   "metadata": {
    "tags": []
   },
   "outputs": [],
   "source": [
    "from vit_pytorch import ViT\n",
    "N = 28\n",
    "\n",
    "v = ViT(\n",
    "    image_size = N,\n",
    "    patch_size = 7,\n",
    "    num_classes = 10,\n",
    "    dim = 128,\n",
    "    depth = 2,\n",
    "    heads = 4,\n",
    "    mlp_dim = 256,\n",
    "    dropout = 0.1,\n",
    "    emb_dropout = 0.1,\n",
    "    channels = 1\n",
    ")"
   ]
  },
  {
   "cell_type": "code",
   "execution_count": 4,
   "id": "2da2a4c0-72d8-4611-9e99-2eaa32e5a8b7",
   "metadata": {
    "tags": []
   },
   "outputs": [
    {
     "data": {
      "text/plain": [
       "ViT(\n",
       "  (to_patch_embedding): Sequential(\n",
       "    (0): Rearrange('b c (h p1) (w p2) -> b (h w) (p1 p2 c)', p1=7, p2=7)\n",
       "    (1): LayerNorm((49,), eps=1e-05, elementwise_affine=True)\n",
       "    (2): Linear(in_features=49, out_features=128, bias=True)\n",
       "    (3): LayerNorm((128,), eps=1e-05, elementwise_affine=True)\n",
       "  )\n",
       "  (dropout): Dropout(p=0.1, inplace=False)\n",
       "  (transformer): Transformer(\n",
       "    (layers): ModuleList(\n",
       "      (0-1): 2 x ModuleList(\n",
       "        (0): PreNorm(\n",
       "          (norm): LayerNorm((128,), eps=1e-05, elementwise_affine=True)\n",
       "          (fn): Attention(\n",
       "            (attend): Softmax(dim=-1)\n",
       "            (dropout): Dropout(p=0.1, inplace=False)\n",
       "            (to_qkv): Linear(in_features=128, out_features=768, bias=False)\n",
       "            (to_out): Sequential(\n",
       "              (0): Linear(in_features=256, out_features=128, bias=True)\n",
       "              (1): Dropout(p=0.1, inplace=False)\n",
       "            )\n",
       "          )\n",
       "        )\n",
       "        (1): PreNorm(\n",
       "          (norm): LayerNorm((128,), eps=1e-05, elementwise_affine=True)\n",
       "          (fn): FeedForward(\n",
       "            (net): Sequential(\n",
       "              (0): Linear(in_features=128, out_features=256, bias=True)\n",
       "              (1): GELU(approximate='none')\n",
       "              (2): Dropout(p=0.1, inplace=False)\n",
       "              (3): Linear(in_features=256, out_features=128, bias=True)\n",
       "              (4): Dropout(p=0.1, inplace=False)\n",
       "            )\n",
       "          )\n",
       "        )\n",
       "      )\n",
       "    )\n",
       "  )\n",
       "  (to_latent): Identity()\n",
       "  (mlp_head): Sequential(\n",
       "    (0): LayerNorm((128,), eps=1e-05, elementwise_affine=True)\n",
       "    (1): Linear(in_features=128, out_features=10, bias=True)\n",
       "  )\n",
       ")"
      ]
     },
     "execution_count": 4,
     "metadata": {},
     "output_type": "execute_result"
    }
   ],
   "source": [
    "v"
   ]
  },
  {
   "cell_type": "code",
   "execution_count": 5,
   "id": "f373a82c-2455-459b-bfa2-1fff347cf27e",
   "metadata": {
    "tags": []
   },
   "outputs": [
    {
     "data": {
      "text/plain": [
       "<All keys matched successfully>"
      ]
     },
     "execution_count": 5,
     "metadata": {},
     "output_type": "execute_result"
    }
   ],
   "source": [
    "\n",
    "v.load_state_dict(torch.load('test.pt'))"
   ]
  },
  {
   "cell_type": "code",
   "execution_count": 7,
   "id": "e96bc3b1-8cd1-4301-9799-6957be33e37f",
   "metadata": {
    "tags": []
   },
   "outputs": [
    {
     "name": "stdout",
     "output_type": "stream",
     "text": [
      "Epoch [1/10], Step [100/469], Loss: 0.4809\n",
      "Epoch [1/10], Step [200/469], Loss: 0.5481\n",
      "Epoch [1/10], Step [300/469], Loss: 0.4373\n",
      "Epoch [1/10], Step [400/469], Loss: 0.4935\n",
      "Epoch [2/10], Step [100/469], Loss: 0.5038\n",
      "Epoch [2/10], Step [200/469], Loss: 0.6137\n",
      "Epoch [2/10], Step [300/469], Loss: 0.5251\n",
      "Epoch [2/10], Step [400/469], Loss: 0.4819\n",
      "Epoch [3/10], Step [100/469], Loss: 0.4445\n",
      "Epoch [3/10], Step [200/469], Loss: 0.3659\n",
      "Epoch [3/10], Step [300/469], Loss: 0.3662\n",
      "Epoch [3/10], Step [400/469], Loss: 0.3542\n",
      "Epoch [4/10], Step [100/469], Loss: 0.6861\n",
      "Epoch [4/10], Step [200/469], Loss: 0.4797\n",
      "Epoch [4/10], Step [300/469], Loss: 0.5087\n",
      "Epoch [4/10], Step [400/469], Loss: 0.4958\n",
      "Epoch [5/10], Step [100/469], Loss: 0.4041\n",
      "Epoch [5/10], Step [200/469], Loss: 0.5435\n",
      "Epoch [5/10], Step [300/469], Loss: 0.7831\n",
      "Epoch [5/10], Step [400/469], Loss: 0.8272\n",
      "Epoch [6/10], Step [100/469], Loss: 0.6446\n",
      "Epoch [6/10], Step [200/469], Loss: 0.6153\n",
      "Epoch [6/10], Step [300/469], Loss: 0.5074\n",
      "Epoch [6/10], Step [400/469], Loss: 0.4245\n",
      "Epoch [7/10], Step [100/469], Loss: 0.6945\n",
      "Epoch [7/10], Step [200/469], Loss: 0.3852\n",
      "Epoch [7/10], Step [300/469], Loss: 0.3026\n",
      "Epoch [7/10], Step [400/469], Loss: 0.3772\n",
      "Epoch [8/10], Step [100/469], Loss: 0.3490\n",
      "Epoch [8/10], Step [200/469], Loss: 0.4162\n",
      "Epoch [8/10], Step [300/469], Loss: 0.5865\n",
      "Epoch [8/10], Step [400/469], Loss: 0.6137\n",
      "Epoch [9/10], Step [100/469], Loss: 0.3265\n",
      "Epoch [9/10], Step [200/469], Loss: 0.4751\n",
      "Epoch [9/10], Step [300/469], Loss: 0.6150\n",
      "Epoch [9/10], Step [400/469], Loss: 0.5230\n",
      "Epoch [10/10], Step [100/469], Loss: 0.5291\n",
      "Epoch [10/10], Step [200/469], Loss: 0.5440\n",
      "Epoch [10/10], Step [300/469], Loss: 0.5655\n",
      "Epoch [10/10], Step [400/469], Loss: 0.4295\n"
     ]
    }
   ],
   "source": [
    "loss_func = torch.nn.CrossEntropyLoss() \n",
    "\n",
    "from torch import optim\n",
    "optimizer = optim.Adam(v.parameters(), lr = 0.01) \n",
    "\n",
    "num_epochs = 10\n",
    "def train(num_epochs, cnn, loaders):\n",
    "    \n",
    "    #cnn.train()\n",
    "        \n",
    "    total_step = len(loaders['train'])\n",
    "        \n",
    "    for epoch in range(num_epochs):\n",
    "        for i, (images, labels) in enumerate(loaders['train']):\n",
    "            \n",
    "           # b_x = Variable(images)   # batch x\n",
    "           # b_y = Variable(labels)   # batch y\n",
    "            output = v(images)               \n",
    "            loss = loss_func(output, labels)\n",
    "              \n",
    "            optimizer.zero_grad()           \n",
    "            \n",
    "            loss.backward()    \n",
    "            \n",
    "            optimizer.step()                \n",
    "            \n",
    "            if (i+1) % 100 == 0:\n",
    "                print ('Epoch [{}/{}], Step [{}/{}], Loss: {:.4f}' \n",
    "                       .format(epoch + 1, num_epochs, i + 1, total_step, loss.item()))\n",
    "            pass\n",
    "        \n",
    "        pass\n",
    "    \n",
    "    \n",
    "    pass\n",
    "train(num_epochs, v, loaders)"
   ]
  },
  {
   "cell_type": "code",
   "execution_count": 6,
   "id": "d2f6947c-245b-4dd0-98bf-d52f60c2b6a2",
   "metadata": {
    "tags": []
   },
   "outputs": [
    {
     "name": "stdout",
     "output_type": "stream",
     "text": [
      "Serving 'test.pt' at http://localhost:8080\n"
     ]
    },
    {
     "data": {
      "text/plain": [
       "('localhost', 8080)"
      ]
     },
     "execution_count": 6,
     "metadata": {},
     "output_type": "execute_result"
    }
   ],
   "source": [
    "torch.save(v.state_dict(),'test.pt')\n",
    "\n",
    "import netron\n",
    "netron.start('test.pt')"
   ]
  },
  {
   "cell_type": "code",
   "execution_count": 9,
   "id": "e24901f0-db92-4c59-b9ae-c0ff89906cad",
   "metadata": {
    "tags": []
   },
   "outputs": [
    {
     "name": "stdout",
     "output_type": "stream",
     "text": [
      "tensor(0.8125)\n",
      "tensor(0.8750)\n",
      "tensor(0.8672)\n",
      "tensor(0.8438)\n",
      "tensor(0.8438)\n",
      "tensor(0.8750)\n",
      "tensor(0.8438)\n",
      "tensor(0.8594)\n",
      "tensor(0.8438)\n",
      "tensor(0.8438)\n",
      "tensor(0.8906)\n",
      "tensor(0.8281)\n",
      "tensor(0.8750)\n",
      "tensor(0.8438)\n",
      "tensor(0.8516)\n",
      "tensor(0.8984)\n",
      "tensor(0.8750)\n",
      "tensor(0.8828)\n",
      "tensor(0.8750)\n",
      "tensor(0.8203)\n",
      "tensor(0.8828)\n",
      "tensor(0.8359)\n",
      "tensor(0.8906)\n",
      "tensor(0.8516)\n",
      "tensor(0.8984)\n",
      "tensor(0.8906)\n",
      "tensor(0.8672)\n",
      "tensor(0.8281)\n",
      "tensor(0.8359)\n",
      "tensor(0.8125)\n",
      "tensor(0.8750)\n",
      "tensor(0.8906)\n",
      "tensor(0.8438)\n",
      "tensor(0.8828)\n",
      "tensor(0.8672)\n",
      "tensor(0.8359)\n",
      "tensor(0.8047)\n",
      "tensor(0.8750)\n",
      "tensor(0.8828)\n",
      "tensor(0.8047)\n",
      "tensor(0.9062)\n",
      "tensor(0.8203)\n",
      "tensor(0.8281)\n",
      "tensor(0.8359)\n",
      "tensor(0.8281)\n",
      "tensor(0.8438)\n",
      "tensor(0.8516)\n",
      "tensor(0.8047)\n",
      "tensor(0.8594)\n",
      "tensor(0.8281)\n",
      "tensor(0.8203)\n",
      "tensor(0.8672)\n",
      "tensor(0.8516)\n",
      "tensor(0.8438)\n",
      "tensor(0.8672)\n",
      "tensor(0.9219)\n",
      "tensor(0.8047)\n",
      "tensor(0.8906)\n",
      "tensor(0.8203)\n",
      "tensor(0.8047)\n",
      "tensor(0.8359)\n",
      "tensor(0.8984)\n",
      "tensor(0.8906)\n",
      "tensor(0.8359)\n",
      "tensor(0.8906)\n",
      "tensor(0.8828)\n",
      "tensor(0.8594)\n",
      "tensor(0.8047)\n",
      "tensor(0.8906)\n",
      "tensor(0.8203)\n",
      "tensor(0.8750)\n",
      "tensor(0.8516)\n",
      "tensor(0.8594)\n",
      "tensor(0.8984)\n",
      "tensor(0.8828)\n",
      "tensor(0.8594)\n",
      "tensor(0.8516)\n",
      "tensor(0.8438)\n",
      "tensor(0.1094)\n"
     ]
    }
   ],
   "source": [
    "\n",
    "def test(num_epochs, cnn, loaders):\n",
    "    \n",
    "    #cnn.train()\n",
    "        \n",
    "    total_step = len(loaders['test'])\n",
    "        \n",
    "    for epoch in range(num_epochs):\n",
    "        for i, (images, labels) in enumerate(loaders['test']):\n",
    "            \n",
    "           # b_x = Variable(images)   # batch x\n",
    "           # b_y = Variable(labels)   # batch y\n",
    "            output = v(images) \n",
    "            o = output.argmax(1)\n",
    "            p = o == labels\n",
    "            \n",
    "            print(p.sum()/128)  \n",
    "           \n",
    "            if (i+1) % 100 == 0:\n",
    "                print ('Epoch [{}/{}], Step [{}/{}], Loss: {:.4f}' \n",
    "                       .format(epoch + 1, num_epochs, i + 1, total_step, loss.item()))\n",
    "            pass\n",
    "        \n",
    "        pass\n",
    "    \n",
    "    \n",
    "    pass\n",
    "test(1, v, loaders)"
   ]
  },
  {
   "cell_type": "code",
   "execution_count": 10,
   "id": "d13a4ad3-4aae-4a61-b635-8f233b03418a",
   "metadata": {
    "tags": []
   },
   "outputs": [
    {
     "data": {
      "text/plain": [
       "torch.Size([1, 28, 28])"
      ]
     },
     "execution_count": 10,
     "metadata": {},
     "output_type": "execute_result"
    }
   ],
   "source": [
    "t = test_data[0][0]\n",
    "t.shape\n",
    "\n",
    "\n"
   ]
  },
  {
   "cell_type": "code",
   "execution_count": 11,
   "id": "39519910-67fc-44ad-89fc-39c37fae5ab9",
   "metadata": {
    "tags": []
   },
   "outputs": [],
   "source": [
    "t = t.unsqueeze(0)\n",
    "V = v\n",
    "from vit_pytorch.recorder import Recorder\n",
    "V = Recorder(V)\n",
    "#print(t.shape)\n",
    "\n",
    "# img = torch.randn(1, 3, 256, 256)\n",
    "preds, attns = V(t)"
   ]
  },
  {
   "cell_type": "code",
   "execution_count": 15,
   "id": "693c80ca-d8b1-4650-9b84-7157e4d3e8a7",
   "metadata": {
    "tags": []
   },
   "outputs": [
    {
     "name": "stdout",
     "output_type": "stream",
     "text": [
      "torch.Size([1, 2, 4, 17, 17])\n"
     ]
    }
   ],
   "source": [
    "print(attns.shape)\n",
    "attns = attns.cpu()\n",
    "at = attns.numpy()\n",
    "at = at[:,1,2,:,:]\n",
    "at = at.squeeze(0)"
   ]
  },
  {
   "cell_type": "code",
   "execution_count": 16,
   "id": "e66cdfe8-bc26-4320-9029-19048d85cfc3",
   "metadata": {
    "tags": []
   },
   "outputs": [
    {
     "data": {
      "image/png": "[encoded data removed]",
      "text/plain": [
       "<Figure size 432x288 with 1 Axes>"
      ]
     },
     "metadata": {
      "needs_background": "light"
     },
     "output_type": "display_data"
    }
   ],
   "source": [
    "import numpy as np\n",
    "import matplotlib\n",
    "import matplotlib as mpl\n",
    "import matplotlib.pyplot as plt\n",
    "\n",
    "fig, ax = plt.subplots()\n",
    "im = ax.imshow(at)"
   ]
  },
  {
   "cell_type": "code",
   "execution_count": 14,
   "id": "7a816b30-6de9-43e6-a114-4d45d50f12db",
   "metadata": {
    "tags": []
   },
   "outputs": [
    {
     "ename": "ImportError",
     "evalue": "TensorBoard logging requires TensorBoard version 1.15 or above",
     "output_type": "error",
     "traceback": [
      "\u001b[0;31m---------------------------------------------------------------------------\u001b[0m",
      "\u001b[0;31mImportError\u001b[0m                               Traceback (most recent call last)",
      "\u001b[0;32m/tmp/ipykernel_27846/2451394939.py\u001b[0m in \u001b[0;36m<cell line: 1>\u001b[0;34m()\u001b[0m\n\u001b[0;32m----> 1\u001b[0;31m \u001b[0;32mfrom\u001b[0m \u001b[0mtorch\u001b[0m\u001b[0;34m.\u001b[0m\u001b[0mutils\u001b[0m\u001b[0;34m.\u001b[0m\u001b[0mtensorboard\u001b[0m \u001b[0;32mimport\u001b[0m \u001b[0mSummaryWriter\u001b[0m\u001b[0;34m\u001b[0m\u001b[0;34m\u001b[0m\u001b[0m\n\u001b[0m\u001b[1;32m      2\u001b[0m \u001b[0mwriter\u001b[0m \u001b[0;34m=\u001b[0m \u001b[0mSummaryWriter\u001b[0m\u001b[0;34m(\u001b[0m\u001b[0;34m'test_1'\u001b[0m\u001b[0;34m)\u001b[0m\u001b[0;34m\u001b[0m\u001b[0;34m\u001b[0m\u001b[0m\n\u001b[1;32m      3\u001b[0m \u001b[0mwriter\u001b[0m\u001b[0;34m.\u001b[0m\u001b[0madd_graph\u001b[0m\u001b[0;34m(\u001b[0m\u001b[0mv\u001b[0m\u001b[0;34m,\u001b[0m \u001b[0mdummy_input\u001b[0m\u001b[0;34m)\u001b[0m\u001b[0;34m\u001b[0m\u001b[0;34m\u001b[0m\u001b[0m\n\u001b[1;32m      4\u001b[0m \u001b[0mwriter\u001b[0m\u001b[0;34m.\u001b[0m\u001b[0mclose\u001b[0m\u001b[0;34m(\u001b[0m\u001b[0;34m)\u001b[0m\u001b[0;34m\u001b[0m\u001b[0;34m\u001b[0m\u001b[0m\n",
      "\u001b[0;32m~/work/env_python/deep/lib/python3.10/site-packages/torch/utils/tensorboard/__init__.py\u001b[0m in \u001b[0;36m<module>\u001b[0;34m\u001b[0m\n\u001b[1;32m      5\u001b[0m     \u001b[0mtensorboard\u001b[0m\u001b[0;34m.\u001b[0m\u001b[0m__version__\u001b[0m\u001b[0;34m\u001b[0m\u001b[0;34m\u001b[0m\u001b[0m\n\u001b[1;32m      6\u001b[0m ) < LooseVersion(\"1.15\"):\n\u001b[0;32m----> 7\u001b[0;31m     \u001b[0;32mraise\u001b[0m \u001b[0mImportError\u001b[0m\u001b[0;34m(\u001b[0m\u001b[0;34m\"TensorBoard logging requires TensorBoard version 1.15 or above\"\u001b[0m\u001b[0;34m)\u001b[0m\u001b[0;34m\u001b[0m\u001b[0;34m\u001b[0m\u001b[0m\n\u001b[0m\u001b[1;32m      8\u001b[0m \u001b[0;34m\u001b[0m\u001b[0m\n\u001b[1;32m      9\u001b[0m \u001b[0;32mdel\u001b[0m \u001b[0mLooseVersion\u001b[0m\u001b[0;34m\u001b[0m\u001b[0;34m\u001b[0m\u001b[0m\n",
      "\u001b[0;31mImportError\u001b[0m: TensorBoard logging requires TensorBoard version 1.15 or above"
     ]
    }
   ],
   "source": [
    "from torch.utils.tensorboard import SummaryWriter\n",
    "writer = SummaryWriter('test_1')\n",
    "writer.add_graph(v, dummy_input)\n",
    "writer.close()"
   ]
  }
 ],
 "metadata": {
  "kernelspec": {
   "display_name": "Python 3 (ipykernel)",
   "language": "python",
   "name": "python3"
  },
  "language_info": {
   "codemirror_mode": {
    "name": "ipython",
    "version": 3
   },
   "file_extension": ".py",
   "mimetype": "text/x-python",
   "name": "python",
   "nbconvert_exporter": "python",
   "pygments_lexer": "ipython3",
   "version": "3.10.10"
  }
 },
 "nbformat": 4,
 "nbformat_minor": 5
}
