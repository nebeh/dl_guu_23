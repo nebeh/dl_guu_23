{
 "cells": [
  {
   "cell_type": "code",
   "execution_count": 1,
   "id": "8a11e3c4-f336-43b0-b43d-0d5c74322092",
   "metadata": {
    "tags": []
   },
   "outputs": [
    {
     "name": "stdout",
     "output_type": "stream",
     "text": [
      "...................................................Training Accuracy at epoch 1 is:  0.5373134328358209\n",
      "Validation Accuracy at epoch 1 is:  0.4630541871921182\n",
      "...................................................Training Accuracy at epoch 2 is:  0.527363184079602\n",
      "Validation Accuracy at epoch 2 is:  0.5369458128078818\n",
      "...................................................Training Accuracy at epoch 3 is:  0.5422885572139303\n",
      "Validation Accuracy at epoch 3 is:  0.5369458128078818\n",
      "...................................................Training Accuracy at epoch 4 is:  0.599502487562189\n",
      "Validation Accuracy at epoch 4 is:  0.5615763546798029\n",
      "...................................................Training Accuracy at epoch 5 is:  0.5199004975124378\n",
      "Validation Accuracy at epoch 5 is:  0.5369458128078818\n",
      "...................................................Training Accuracy at epoch 6 is:  0.5945273631840796\n",
      "Validation Accuracy at epoch 6 is:  0.5714285714285714\n",
      "...................................................Training Accuracy at epoch 7 is:  0.5572139303482587\n",
      "Validation Accuracy at epoch 7 is:  0.5566502463054187\n",
      "...................................................Training Accuracy at epoch 8 is:  0.5796019900497512\n",
      "Validation Accuracy at epoch 8 is:  0.5369458128078818\n",
      "...................................................Training Accuracy at epoch 9 is:  0.5696517412935324\n",
      "Validation Accuracy at epoch 9 is:  0.5763546798029556\n",
      "...................................................Training Accuracy at epoch 10 is:  0.5497512437810945\n",
      "Validation Accuracy at epoch 10 is:  0.5517241379310345\n",
      "...................................................Training Accuracy at epoch 11 is:  0.5621890547263682\n",
      "Validation Accuracy at epoch 11 is:  0.5320197044334976\n",
      "...................................................Training Accuracy at epoch 12 is:  0.5845771144278606\n",
      "Validation Accuracy at epoch 12 is:  0.5763546798029556\n",
      "...................................................Training Accuracy at epoch 13 is:  0.582089552238806\n",
      "Validation Accuracy at epoch 13 is:  0.6108374384236454\n",
      "...................................................Training Accuracy at epoch 14 is:  0.5920398009950248\n",
      "Validation Accuracy at epoch 14 is:  0.5960591133004927\n",
      "...................................................Training Accuracy at epoch 15 is:  0.6044776119402985\n",
      "Validation Accuracy at epoch 15 is:  0.5566502463054187\n"
     ]
    }
   ],
   "source": [
    "import numpy as np # linear algebra\n",
    "# import pandas as pd # data processing, CSV file I/O (e.g. pd.read_csv)\n",
    "\n",
    "import os\n",
    "import warnings\n",
    "warnings.simplefilter(\"ignore\")\n",
    "import torch \n",
    "import torch.nn as nn\n",
    "from torch.utils.data import DataLoader, Subset\n",
    "\n",
    "import torchvision\n",
    "\n",
    "from torchvision import datasets, transforms\n",
    "from torchvision.transforms import ToPILImage\n",
    "from matplotlib.pyplot import imshow\n",
    "import matplotlib.pylab as plt\n",
    "\n",
    "# from PIL import Image\n",
    "\n",
    "normalize = transforms.Normalize(mean=[0.485, 0.456, 0.406],\n",
    "                                 std=[0.229, 0.224, 0.225])\n",
    "\n",
    "train_trans = transforms.Compose([\n",
    "    transforms.RandomRotation(10),\n",
    "    transforms.Resize([224,224]),\n",
    "    transforms.RandomHorizontalFlip(),\n",
    "    transforms.ToTensor(),\n",
    "    normalize,\n",
    "])\n",
    "\n",
    "test_trans = transforms.Compose([\n",
    "    transforms.Resize(256),\n",
    "    transforms.CenterCrop(224),\n",
    "    transforms.ToTensor(),\n",
    "    normalize,\n",
    "])\n",
    "#%%\n",
    "\n",
    "train_data = datasets.ImageFolder('/home/strike/work/learn/guu/dl_guu_23/07/cats_and_dogs/training_set/training_set/', transform=train_trans)\n",
    "test_data = datasets.ImageFolder('/home/strike/work/learn/guu/dl_guu_23/07/cats_and_dogs/test_set/test_set/', transform=test_trans)\n",
    "#%%\n",
    "import numpy as np\n",
    "t = range(len(test_data))\n",
    "t = np.random.permutation(t)\n",
    "n = int(len(t)/2)\n",
    "idx_test = t[:n]\n",
    "idx_val = t[n:]\n",
    "\n",
    "val_data = Subset(test_data, idx_val)\n",
    "test_data = Subset(test_data, idx_test)\n",
    "\n",
    "\n",
    "#%%\n",
    "train_loader = torch.utils.data.DataLoader(train_data,\n",
    "    batch_size=8,    shuffle=True)\n",
    "    \n",
    "\n",
    "test_loader = torch.utils.data.DataLoader(test_data,\n",
    "    batch_size=8,    shuffle=False)\n",
    "\n",
    "val_loader = torch.utils.data.DataLoader(val_data,\n",
    "    batch_size=8,    shuffle=False)\n",
    "#%%\n",
    "from vit_pytorch import ViT\n",
    "N = 224\n",
    "\n",
    "model = ViT(\n",
    "    image_size = N,\n",
    "    patch_size = 32,\n",
    "    num_classes = 2,\n",
    "    dim = 128,\n",
    "    depth = 2,\n",
    "    heads = 4,\n",
    "    mlp_dim = 256,\n",
    "    dropout = 0.1,\n",
    "    emb_dropout = 0.1\n",
    ")\n",
    "model.cuda()\n",
    "\n"
   ]
  },
  {
   "cell_type": "code",
   "execution_count": null,
   "id": "5e211e21-7a0d-498c-b07a-b163983f5853",
   "metadata": {},
   "outputs": [],
   "source": []
  },
  {
   "cell_type": "code",
   "execution_count": null,
   "id": "ab788ee1-9bf2-414a-a6d2-7204a0497093",
   "metadata": {},
   "outputs": [],
   "source": []
  },
  {
   "cell_type": "code",
   "execution_count": 3,
   "id": "cc8f15e6-4e69-4d87-9eab-57ce69e97b4a",
   "metadata": {
    "tags": []
   },
   "outputs": [
    {
     "name": "stdout",
     "output_type": "stream",
     "text": [
      "...................................................Training Accuracy at epoch 1 is:  0.572139303482587\n",
      "Validation Accuracy at epoch 1 is:  0.5566502463054187\n",
      "...................................................Training Accuracy at epoch 2 is:  0.6268656716417911\n",
      "Validation Accuracy at epoch 2 is:  0.5566502463054187\n",
      "...................................................Training Accuracy at epoch 3 is:  0.6119402985074627\n",
      "Validation Accuracy at epoch 3 is:  0.5665024630541872\n",
      "...................................................Training Accuracy at epoch 4 is:  0.6119402985074627\n",
      "Validation Accuracy at epoch 4 is:  0.5665024630541872\n",
      "...................................................Training Accuracy at epoch 5 is:  0.5696517412935324\n",
      "Validation Accuracy at epoch 5 is:  0.5714285714285714\n",
      "...................................................Training Accuracy at epoch 6 is:  0.6368159203980099\n",
      "Validation Accuracy at epoch 6 is:  0.5714285714285714\n",
      "...................................................Training Accuracy at epoch 7 is:  0.5895522388059702\n",
      "Validation Accuracy at epoch 7 is:  0.5615763546798029\n",
      "...................................................Training Accuracy at epoch 8 is:  0.6119402985074627\n",
      "Validation Accuracy at epoch 8 is:  0.5369458128078818\n",
      "...................................................Training Accuracy at epoch 9 is:  0.5522388059701493\n",
      "Validation Accuracy at epoch 9 is:  0.5714285714285714\n",
      "...................................................Training Accuracy at epoch 10 is:  0.6218905472636815\n",
      "Validation Accuracy at epoch 10 is:  0.5615763546798029\n",
      "...................................................Training Accuracy at epoch 11 is:  0.5970149253731343\n",
      "Validation Accuracy at epoch 11 is:  0.5566502463054187\n",
      "...................................................Training Accuracy at epoch 12 is:  0.6194029850746269\n",
      "Validation Accuracy at epoch 12 is:  0.5517241379310345\n",
      "...................................................Training Accuracy at epoch 13 is:  0.6069651741293532\n",
      "Validation Accuracy at epoch 13 is:  0.5123152709359606\n",
      "...................................................Training Accuracy at epoch 14 is:  0.5796019900497512\n",
      "Validation Accuracy at epoch 14 is:  0.5320197044334976\n",
      "...................................................Training Accuracy at epoch 15 is:  0.6144278606965174\n",
      "Validation Accuracy at epoch 15 is:  0.5320197044334976\n",
      "...................................................Training Accuracy at epoch 16 is:  0.6144278606965174\n",
      "Validation Accuracy at epoch 16 is:  0.5467980295566502\n",
      "...................................................Training Accuracy at epoch 17 is:  0.6019900497512438\n",
      "Validation Accuracy at epoch 17 is:  0.5467980295566502\n",
      "...................................................Training Accuracy at epoch 18 is:  0.6019900497512438\n",
      "Validation Accuracy at epoch 18 is:  0.541871921182266\n",
      "...................................................Training Accuracy at epoch 19 is:  0.6243781094527363\n",
      "Validation Accuracy at epoch 19 is:  0.541871921182266\n",
      "...................................................Training Accuracy at epoch 20 is:  0.5696517412935324\n",
      "Validation Accuracy at epoch 20 is:  0.5467980295566502\n",
      "...................................................Training Accuracy at epoch 21 is:  0.5696517412935324\n",
      "Validation Accuracy at epoch 21 is:  0.5615763546798029\n",
      "...................................................Training Accuracy at epoch 22 is:  0.6243781094527363\n",
      "Validation Accuracy at epoch 22 is:  0.5467980295566502\n",
      "...................................................Training Accuracy at epoch 23 is:  0.6293532338308457\n",
      "Validation Accuracy at epoch 23 is:  0.541871921182266\n",
      "...................................................Training Accuracy at epoch 24 is:  0.5970149253731343\n",
      "Validation Accuracy at epoch 24 is:  0.5714285714285714\n",
      "...................................................Training Accuracy at epoch 25 is:  0.6293532338308457\n",
      "Validation Accuracy at epoch 25 is:  0.5911330049261084\n",
      "...................................................Training Accuracy at epoch 26 is:  0.5895522388059702\n",
      "Validation Accuracy at epoch 26 is:  0.5517241379310345\n",
      "...................................................Training Accuracy at epoch 27 is:  0.6293532338308457\n",
      "Validation Accuracy at epoch 27 is:  0.5615763546798029\n",
      "...................................................Training Accuracy at epoch 28 is:  0.6144278606965174\n",
      "Validation Accuracy at epoch 28 is:  0.5665024630541872\n",
      "...................................................Training Accuracy at epoch 29 is:  0.6069651741293532\n",
      "Validation Accuracy at epoch 29 is:  0.5566502463054187\n",
      "...................................................Training Accuracy at epoch 30 is:  0.6044776119402985\n",
      "Validation Accuracy at epoch 30 is:  0.5320197044334976\n",
      "...................................................Training Accuracy at epoch 31 is:  0.6268656716417911\n",
      "Validation Accuracy at epoch 31 is:  0.5320197044334976\n",
      "...................................................Training Accuracy at epoch 32 is:  0.5621890547263682\n",
      "Validation Accuracy at epoch 32 is:  0.5862068965517241\n",
      "...................................................Training Accuracy at epoch 33 is:  0.5845771144278606\n",
      "Validation Accuracy at epoch 33 is:  0.5665024630541872\n",
      "...................................................Training Accuracy at epoch 34 is:  0.582089552238806\n",
      "Validation Accuracy at epoch 34 is:  0.5615763546798029\n",
      "...................................................Training Accuracy at epoch 35 is:  0.6243781094527363\n",
      "Validation Accuracy at epoch 35 is:  0.5320197044334976\n",
      "...................................................Training Accuracy at epoch 36 is:  0.599502487562189\n",
      "Validation Accuracy at epoch 36 is:  0.5566502463054187\n",
      "...................................................Training Accuracy at epoch 37 is:  0.6144278606965174\n",
      "Validation Accuracy at epoch 37 is:  0.5615763546798029\n",
      "...................................................Training Accuracy at epoch 38 is:  0.6019900497512438\n",
      "Validation Accuracy at epoch 38 is:  0.5123152709359606\n",
      "...................................................Training Accuracy at epoch 39 is:  0.6144278606965174\n",
      "Validation Accuracy at epoch 39 is:  0.5467980295566502\n",
      "...................................................Training Accuracy at epoch 40 is:  0.6119402985074627\n",
      "Validation Accuracy at epoch 40 is:  0.5812807881773399\n"
     ]
    }
   ],
   "source": [
    "loss_func = torch.nn.CrossEntropyLoss() \n",
    "\n",
    "criterion = nn.CrossEntropyLoss()\n",
    "optimizer = torch.optim.Adam(model.parameters(), lr = 0.003)\n",
    "\n",
    "val_acc=[]\n",
    "loss_list=[]\n",
    "train_acc =[]\n",
    "for epoch in range(40):\n",
    "    loss_sublist = []\n",
    "    corr = 0\n",
    "    for x, y in train_loader:\n",
    "        model.train()\n",
    "        optimizer.zero_grad()\n",
    "        x = x.cuda()\n",
    "        y = y.cuda()\n",
    "        preds = model(x)\n",
    "        loss = criterion(preds, y)\n",
    "        loss_sublist.append(loss.data.item())\n",
    "        loss.backward()\n",
    "        optimizer.step()\n",
    "       \n",
    "        _, yhat = torch.max(preds.data, 1)\n",
    "        corr += (yhat == y).sum().item()\n",
    "        print(\".\",end='',flush = True )\n",
    "    \n",
    "    loss_list.append(np.mean(loss_sublist))\n",
    "    acc = corr/len(train_data)\n",
    "    print(\"Training Accuracy at epoch\",epoch+1,\"is: \",acc)\n",
    "    train_acc.append(acc)\n",
    "    \n",
    "    correct=0\n",
    "    with torch.no_grad():\n",
    "        for x_test, y_test in test_loader:\n",
    "            model.eval()\n",
    "            x_test = x_test.cuda()\n",
    "            y_test = y_test.cuda()\n",
    "            z = model(x_test)\n",
    "            _, yhat1 = torch.max(z.data, 1)\n",
    "            correct += (yhat1 == y_test).sum().item()\n",
    "    accuracy = correct / len(test_data)\n",
    "    print(\"Validation Accuracy at epoch\",epoch+1,\"is: \",accuracy)\n",
    "    val_acc.append(accuracy)"
   ]
  },
  {
   "cell_type": "code",
   "execution_count": 23,
   "id": "9df43cbf-45bf-4873-ba3c-19fc5e33dd65",
   "metadata": {
    "tags": []
   },
   "outputs": [],
   "source": [
    "t = test_data[0][0].to('cuda')\n",
    "t = t.unsqueeze(0)\n",
    "v = model\n",
    "from vit_pytorch.recorder import Recorder\n",
    "v = Recorder(v)\n",
    "#print(t.shape)\n",
    "\n",
    "# img = torch.randn(1, 3, 256, 256)\n",
    "preds, attns = v(t)"
   ]
  },
  {
   "cell_type": "code",
   "execution_count": null,
   "id": "1fe2dbb1-2f65-45f7-bb42-5deb6a32e95d",
   "metadata": {},
   "outputs": [],
   "source": []
  },
  {
   "cell_type": "code",
   "execution_count": 37,
   "id": "4e08d223-e45d-4f09-9c07-8e337c43586e",
   "metadata": {
    "tags": []
   },
   "outputs": [
    {
     "name": "stdout",
     "output_type": "stream",
     "text": [
      "torch.Size([1, 2, 4, 50, 50])\n"
     ]
    }
   ],
   "source": [
    "print(attns.shape)\n",
    "attns = attns.cpu()\n",
    "at = attns.numpy()\n",
    "at = at[:,1,2,:,:]\n",
    "at = at.squeeze(0)"
   ]
  },
  {
   "cell_type": "code",
   "execution_count": 38,
   "id": "1f947a0f-b040-4bc5-8483-1c4a44184a25",
   "metadata": {
    "tags": []
   },
   "outputs": [
    {
     "data": {
      "text/plain": [
       "(50, 50)"
      ]
     },
     "execution_count": 38,
     "metadata": {},
     "output_type": "execute_result"
    }
   ],
   "source": [
    "at.shape"
   ]
  },
  {
   "cell_type": "code",
   "execution_count": 39,
   "id": "1e02cdfc-df67-4eb3-b669-d3c6846d4572",
   "metadata": {
    "tags": []
   },
   "outputs": [
    {
     "data": {
      "image/png": "[encoded data removed]",
      "text/plain": [
       "<Figure size 432x288 with 1 Axes>"
      ]
     },
     "metadata": {
      "needs_background": "light"
     },
     "output_type": "display_data"
    }
   ],
   "source": [
    "import numpy as np\n",
    "import matplotlib\n",
    "import matplotlib as mpl\n",
    "import matplotlib.pyplot as plt\n",
    "\n",
    "fig, ax = plt.subplots()\n",
    "im = ax.imshow(at)"
   ]
  },
  {
   "cell_type": "code",
   "execution_count": 40,
   "id": "dcd73fc7-1fa6-4b54-bccb-84da37a7b5fc",
   "metadata": {
    "tags": []
   },
   "outputs": [
    {
     "data": {
      "text/plain": [
       "array([[0.0000000e+00, 6.9169592e-10, 2.9093907e-27, ..., 6.4895589e-10,\n",
       "        6.2268285e-08, 4.6734217e-30],\n",
       "       [0.0000000e+00, 1.8764418e-07, 1.8709697e-19, ..., 1.7088848e-07,\n",
       "        1.5214168e-06, 3.6109948e-22],\n",
       "       [0.0000000e+00, 1.9718716e-07, 1.7371355e-19, ..., 1.7993590e-07,\n",
       "        1.7254114e-06, 4.4750663e-22],\n",
       "       ...,\n",
       "       [0.0000000e+00, 1.8706757e-07, 1.8705786e-19, ..., 1.7034257e-07,\n",
       "        1.5091005e-06, 3.5675261e-22],\n",
       "       [0.0000000e+00, 1.7846708e-07, 1.7059513e-19, ..., 1.6255068e-07,\n",
       "        1.4429299e-06, 3.0171357e-22],\n",
       "       [0.0000000e+00, 5.5549933e-08, 4.2318762e-21, ..., 5.0812403e-08,\n",
       "        7.0658916e-07, 6.7907119e-24]], dtype=float32)"
      ]
     },
     "execution_count": 40,
     "metadata": {},
     "output_type": "execute_result"
    }
   ],
   "source": [
    "at"
   ]
  },
  {
   "cell_type": "code",
   "execution_count": null,
   "id": "bd69ea0b-0496-4f53-b72a-e955dbc08a32",
   "metadata": {},
   "outputs": [],
   "source": []
  }
 ],
 "metadata": {
  "kernelspec": {
   "display_name": "Python 3 (ipykernel)",
   "language": "python",
   "name": "python3"
  },
  "language_info": {
   "codemirror_mode": {
    "name": "ipython",
    "version": 3
   },
   "file_extension": ".py",
   "mimetype": "text/x-python",
   "name": "python",
   "nbconvert_exporter": "python",
   "pygments_lexer": "ipython3",
   "version": "3.10.10"
  }
 },
 "nbformat": 4,
 "nbformat_minor": 5
}
